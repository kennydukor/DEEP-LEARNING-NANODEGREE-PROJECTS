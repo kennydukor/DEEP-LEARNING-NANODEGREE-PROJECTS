{
 "cells": [
  {
   "cell_type": "markdown",
   "metadata": {},
   "source": [
    "# Predicting Boston Housing Prices\n",
    "\n",
    "## Using XGBoost in SageMaker (Deploy)\n",
    "\n",
    "_Deep Learning Nanodegree Program | Deployment_\n",
    "\n",
    "---\n",
    "\n",
    "As an introduction to using SageMaker's High Level Python API we will look at a relatively simple problem. Namely, we will use the [Boston Housing Dataset](https://www.cs.toronto.edu/~delve/data/boston/bostonDetail.html) to predict the median value of a home in the area of Boston Mass.\n",
    "\n",
    "The documentation for the high level API can be found on the [ReadTheDocs page](http://sagemaker.readthedocs.io/en/latest/)\n",
    "\n",
    "## General Outline\n",
    "\n",
    "Typically, when using a notebook instance with SageMaker, you will proceed through the following steps. Of course, not every step will need to be done with each project. Also, there is quite a lot of room for variation in many of the steps, as you will see throughout these lessons.\n",
    "\n",
    "1. Download or otherwise retrieve the data.\n",
    "2. Process / Prepare the data.\n",
    "3. Upload the processed data to S3.\n",
    "4. Train a chosen model.\n",
    "5. Test the trained model (typically using a batch transform job).\n",
    "6. Deploy the trained model.\n",
    "7. Use the deployed model.\n",
    "\n",
    "In this notebook we will be skipping step 5, testing the model. We will still test the model but we will do so by first deploying the model and then sending the test data to the deployed model."
   ]
  },
  {
   "cell_type": "markdown",
   "metadata": {},
   "source": [
    "## Step 0: Setting up the notebook\n",
    "\n",
    "We begin by setting up all of the necessary bits required to run our notebook. To start that means loading all of the Python modules we will need."
   ]
  },
  {
   "cell_type": "code",
   "execution_count": 1,
   "metadata": {},
   "outputs": [],
   "source": [
    "%matplotlib inline\n",
    "\n",
    "import os\n",
    "\n",
    "import numpy as np\n",
    "import pandas as pd\n",
    "\n",
    "import matplotlib.pyplot as plt\n",
    "\n",
    "from sklearn.datasets import load_boston\n",
    "import sklearn.model_selection"
   ]
  },
  {
   "cell_type": "markdown",
   "metadata": {},
   "source": [
    "In addition to the modules above, we need to import the various bits of SageMaker that we will be using. "
   ]
  },
  {
   "cell_type": "code",
   "execution_count": 2,
   "metadata": {},
   "outputs": [],
   "source": [
    "import sagemaker\n",
    "from sagemaker import get_execution_role\n",
    "from sagemaker.amazon.amazon_estimator import get_image_uri\n",
    "from sagemaker.predictor import csv_serializer\n",
    "\n",
    "# This is an object that represents the SageMaker session that we are currently operating in. This\n",
    "# object contains some useful information that we will need to access later such as our region.\n",
    "session = sagemaker.Session()\n",
    "\n",
    "# This is an object that represents the IAM role that we are currently assigned. When we construct\n",
    "# and launch the training job later we will need to tell it what IAM role it should have. Since our\n",
    "# use case is relatively simple we will simply assign the training job the role we currently have.\n",
    "role = get_execution_role()"
   ]
  },
  {
   "cell_type": "markdown",
   "metadata": {},
   "source": [
    "## Step 1: Downloading the data\n",
    "\n",
    "Fortunately, this dataset can be retrieved using sklearn and so this step is relatively straightforward."
   ]
  },
  {
   "cell_type": "code",
   "execution_count": 3,
   "metadata": {},
   "outputs": [],
   "source": [
    "boston = load_boston()"
   ]
  },
  {
   "cell_type": "markdown",
   "metadata": {},
   "source": [
    "## Step 2: Preparing and splitting the data\n",
    "\n",
    "Given that this is clean tabular data, we don't need to do any processing. However, we do need to split the rows in the dataset up into train, test and validation sets."
   ]
  },
  {
   "cell_type": "code",
   "execution_count": 4,
   "metadata": {},
   "outputs": [],
   "source": [
    "# First we package up the input data and the target variable (the median value) as pandas dataframes. This\n",
    "# will make saving the data to a file a little easier later on.\n",
    "\n",
    "X_bos_pd = pd.DataFrame(boston.data, columns=boston.feature_names)\n",
    "Y_bos_pd = pd.DataFrame(boston.target)\n",
    "\n",
    "# We split the dataset into 2/3 training and 1/3 testing sets.\n",
    "X_train, X_test, Y_train, Y_test = sklearn.model_selection.train_test_split(X_bos_pd, Y_bos_pd, test_size=0.33)\n",
    "\n",
    "# Then we split the training set further into 2/3 training and 1/3 validation sets.\n",
    "X_train, X_val, Y_train, Y_val = sklearn.model_selection.train_test_split(X_train, Y_train, test_size=0.33)"
   ]
  },
  {
   "cell_type": "markdown",
   "metadata": {},
   "source": [
    "## Step 3: Uploading the training and validation files to S3\n",
    "\n",
    "When a training job is constructed using SageMaker, a container is executed which performs the training operation. This container is given access to data that is stored in S3. This means that we need to upload the data we want to use for training to S3. We can use the SageMaker API to do this and hide some of the details.\n",
    "\n",
    "### Save the data locally\n",
    "\n",
    "First we need to create the train and validation csv files which we will then upload to S3."
   ]
  },
  {
   "cell_type": "code",
   "execution_count": 5,
   "metadata": {},
   "outputs": [],
   "source": [
    "# This is our local data directory. We need to make sure that it exists.\n",
    "data_dir = '../data/boston'\n",
    "if not os.path.exists(data_dir):\n",
    "    os.makedirs(data_dir)"
   ]
  },
  {
   "cell_type": "code",
   "execution_count": 6,
   "metadata": {},
   "outputs": [],
   "source": [
    "# We use pandas to save our train and validation data to csv files. Note that we make sure not to include header\n",
    "# information or an index as this is required by the built in algorithms provided by Amazon. Also, it is assumed\n",
    "# that the first entry in each row is the target variable.\n",
    "\n",
    "pd.concat([Y_val, X_val], axis=1).to_csv(os.path.join(data_dir, 'validation.csv'), header=False, index=False)\n",
    "pd.concat([Y_train, X_train], axis=1).to_csv(os.path.join(data_dir, 'train.csv'), header=False, index=False)"
   ]
  },
  {
   "cell_type": "markdown",
   "metadata": {},
   "source": [
    "### Upload to S3\n",
    "\n",
    "Since we are currently running inside of a SageMaker session, we can use the object which represents this session to upload our data to the 'default' S3 bucket. Note that it is good practice to provide a custom prefix (essentially an S3 folder) to make sure that you don't accidentally interfere with data uploaded from some other notebook or project."
   ]
  },
  {
   "cell_type": "code",
   "execution_count": 7,
   "metadata": {},
   "outputs": [],
   "source": [
    "prefix = 'boston-xgboost-deploy-hl'\n",
    "\n",
    "val_location = session.upload_data(os.path.join(data_dir, 'validation.csv'), key_prefix=prefix)\n",
    "train_location = session.upload_data(os.path.join(data_dir, 'train.csv'), key_prefix=prefix)"
   ]
  },
  {
   "cell_type": "markdown",
   "metadata": {},
   "source": [
    "## Step 4: Train the XGBoost model\n",
    "\n",
    "Now that we have the training and validation data uploaded to S3, we can construct our XGBoost model and train it. We will be making use of the high level SageMaker API to do this which will make the resulting code a little easier to read at the cost of some flexibility.\n",
    "\n",
    "To construct an estimator, the object which we wish to train, we need to provide the location of a container which contains the training code. Since we are using a built in algorithm this container is provided by Amazon. However, the full name of the container is a bit lengthy and depends on the region that we are operating in. Fortunately, SageMaker provides a useful utility method called `get_image_uri` that constructs the image name for us.\n",
    "\n",
    "To use the `get_image_uri` method we need to provide it with our current region, which can be obtained from the session object, and the name of the algorithm we wish to use. In this notebook we will be using XGBoost however you could try another algorithm if you wish. The list of built in algorithms can be found in the list of [Common Parameters](https://docs.aws.amazon.com/sagemaker/latest/dg/sagemaker-algo-docker-registry-paths.html)."
   ]
  },
  {
   "cell_type": "code",
   "execution_count": 8,
   "metadata": {},
   "outputs": [],
   "source": [
    "# As stated above, we use this utility method to construct the image name for the training container.\n",
    "container = get_image_uri(session.boto_region_name, 'xgboost')\n",
    "\n",
    "# Now that we know which container to use, we can construct the estimator object.\n",
    "xgb = sagemaker.estimator.Estimator(container, # The name of the training container\n",
    "                                    role,      # The IAM role to use (our current role in this case)\n",
    "                                    train_instance_count=1, # The number of instances to use for training\n",
    "                                    train_instance_type='ml.m4.xlarge', # The type of instance ot use for training\n",
    "                                    output_path='s3://{}/{}/output'.format(session.default_bucket(), prefix),\n",
    "                                                                        # Where to save the output (the model artifacts)\n",
    "                                    sagemaker_session=session) # The current SageMaker session"
   ]
  },
  {
   "cell_type": "markdown",
   "metadata": {},
   "source": [
    "Before asking SageMaker to begin the training job, we should probably set any model specific hyperparameters. There are quite a few that can be set when using the XGBoost algorithm, below are just a few of them. If you would like to change the hyperparameters below or modify additional ones you can find additional information on the [XGBoost hyperparameter page](https://docs.aws.amazon.com/sagemaker/latest/dg/xgboost_hyperparameters.html)"
   ]
  },
  {
   "cell_type": "code",
   "execution_count": 9,
   "metadata": {},
   "outputs": [],
   "source": [
    "xgb.set_hyperparameters(max_depth=5,\n",
    "                        eta=0.2,\n",
    "                        gamma=4,\n",
    "                        min_child_weight=6,\n",
    "                        subsample=0.8,\n",
    "                        objective='reg:linear',\n",
    "                        early_stopping_rounds=10,\n",
    "                        num_round=200)"
   ]
  },
  {
   "cell_type": "markdown",
   "metadata": {},
   "source": [
    "Now that we have our estimator object completely set up, it is time to train it. To do this we make sure that SageMaker knows our input data is in csv format and then execute the `fit` method."
   ]
  },
  {
   "cell_type": "code",
   "execution_count": 10,
   "metadata": {},
   "outputs": [
    {
     "name": "stdout",
     "output_type": "stream",
     "text": [
      "2019-05-11 22:11:23 Starting - Starting the training job...\n",
      "2019-05-11 22:11:24 Starting - Launching requested ML instances...\n",
      "2019-05-11 22:12:22 Starting - Preparing the instances for training.........\n",
      "2019-05-11 22:13:45 Downloading - Downloading input data\n",
      "2019-05-11 22:13:45 Training - Downloading the training image.\n",
      "\u001b[31mArguments: train\u001b[0m\n",
      "\u001b[31m[2019-05-11:22:13:55:INFO] Running standalone xgboost training.\u001b[0m\n",
      "\u001b[31m[2019-05-11:22:13:55:INFO] File size need to be processed in the node: 0.02mb. Available memory size in the node: 8400.83mb\u001b[0m\n",
      "\u001b[31m[2019-05-11:22:13:55:INFO] Determined delimiter of CSV input is ','\u001b[0m\n",
      "\u001b[31m[22:13:55] S3DistributionType set as FullyReplicated\u001b[0m\n",
      "\u001b[31m[22:13:55] 227x13 matrix with 2951 entries loaded from /opt/ml/input/data/train?format=csv&label_column=0&delimiter=,\u001b[0m\n",
      "\u001b[31m[2019-05-11:22:13:55:INFO] Determined delimiter of CSV input is ','\u001b[0m\n",
      "\u001b[31m[22:13:55] S3DistributionType set as FullyReplicated\u001b[0m\n",
      "\u001b[31m[22:13:55] 112x13 matrix with 1456 entries loaded from /opt/ml/input/data/validation?format=csv&label_column=0&delimiter=,\u001b[0m\n",
      "\u001b[31m[22:13:55] src/tree/updater_prune.cc:74: tree pruning end, 1 roots, 10 extra nodes, 0 pruned nodes, max_depth=3\u001b[0m\n",
      "\u001b[31m[0]#011train-rmse:19.86#011validation-rmse:18.9185\u001b[0m\n",
      "\u001b[31mMultiple eval metrics have been passed: 'validation-rmse' will be used for early stopping.\n",
      "\u001b[0m\n",
      "\u001b[31mWill train until validation-rmse hasn't improved in 10 rounds.\u001b[0m\n",
      "\u001b[31m[22:13:55] src/tree/updater_prune.cc:74: tree pruning end, 1 roots, 10 extra nodes, 0 pruned nodes, max_depth=3\u001b[0m\n",
      "\u001b[31m[1]#011train-rmse:16.2878#011validation-rmse:15.5844\u001b[0m\n",
      "\u001b[31m[22:13:55] src/tree/updater_prune.cc:74: tree pruning end, 1 roots, 14 extra nodes, 0 pruned nodes, max_depth=4\u001b[0m\n",
      "\u001b[31m[2]#011train-rmse:13.3971#011validation-rmse:12.9696\u001b[0m\n",
      "\u001b[31m[22:13:55] src/tree/updater_prune.cc:74: tree pruning end, 1 roots, 14 extra nodes, 0 pruned nodes, max_depth=4\u001b[0m\n",
      "\u001b[31m[3]#011train-rmse:11.0482#011validation-rmse:10.8495\u001b[0m\n",
      "\u001b[31m[22:13:55] src/tree/updater_prune.cc:74: tree pruning end, 1 roots, 16 extra nodes, 2 pruned nodes, max_depth=5\u001b[0m\n",
      "\u001b[31m[4]#011train-rmse:9.17975#011validation-rmse:9.2094\u001b[0m\n",
      "\u001b[31m[22:13:55] src/tree/updater_prune.cc:74: tree pruning end, 1 roots, 22 extra nodes, 0 pruned nodes, max_depth=5\u001b[0m\n",
      "\u001b[31m[5]#011train-rmse:7.67909#011validation-rmse:7.92622\u001b[0m\n",
      "\u001b[31m[22:13:55] src/tree/updater_prune.cc:74: tree pruning end, 1 roots, 20 extra nodes, 0 pruned nodes, max_depth=5\u001b[0m\n",
      "\u001b[31m[6]#011train-rmse:6.47441#011validation-rmse:6.89422\u001b[0m\n",
      "\u001b[31m[22:13:55] src/tree/updater_prune.cc:74: tree pruning end, 1 roots, 16 extra nodes, 0 pruned nodes, max_depth=5\u001b[0m\n",
      "\u001b[31m[7]#011train-rmse:5.56283#011validation-rmse:6.22432\u001b[0m\n",
      "\u001b[31m[22:13:55] src/tree/updater_prune.cc:74: tree pruning end, 1 roots, 18 extra nodes, 0 pruned nodes, max_depth=5\u001b[0m\n",
      "\u001b[31m[8]#011train-rmse:4.78495#011validation-rmse:5.58612\u001b[0m\n",
      "\u001b[31m[22:13:55] src/tree/updater_prune.cc:74: tree pruning end, 1 roots, 12 extra nodes, 0 pruned nodes, max_depth=5\u001b[0m\n",
      "\u001b[31m[9]#011train-rmse:4.17975#011validation-rmse:5.07846\u001b[0m\n",
      "\u001b[31m[22:13:55] src/tree/updater_prune.cc:74: tree pruning end, 1 roots, 20 extra nodes, 0 pruned nodes, max_depth=5\u001b[0m\n",
      "\u001b[31m[10]#011train-rmse:3.68564#011validation-rmse:4.69311\u001b[0m\n",
      "\u001b[31m[22:13:55] src/tree/updater_prune.cc:74: tree pruning end, 1 roots, 30 extra nodes, 0 pruned nodes, max_depth=5\u001b[0m\n",
      "\u001b[31m[11]#011train-rmse:3.32654#011validation-rmse:4.48007\u001b[0m\n",
      "\u001b[31m[22:13:55] src/tree/updater_prune.cc:74: tree pruning end, 1 roots, 18 extra nodes, 0 pruned nodes, max_depth=5\u001b[0m\n",
      "\u001b[31m[12]#011train-rmse:3.03564#011validation-rmse:4.25913\u001b[0m\n",
      "\u001b[31m[22:13:55] src/tree/updater_prune.cc:74: tree pruning end, 1 roots, 16 extra nodes, 2 pruned nodes, max_depth=5\u001b[0m\n",
      "\u001b[31m[13]#011train-rmse:2.81815#011validation-rmse:4.06936\u001b[0m\n",
      "\u001b[31m[22:13:55] src/tree/updater_prune.cc:74: tree pruning end, 1 roots, 20 extra nodes, 4 pruned nodes, max_depth=5\u001b[0m\n",
      "\u001b[31m[14]#011train-rmse:2.61608#011validation-rmse:3.90334\u001b[0m\n",
      "\u001b[31m[22:13:55] src/tree/updater_prune.cc:74: tree pruning end, 1 roots, 20 extra nodes, 2 pruned nodes, max_depth=5\u001b[0m\n",
      "\u001b[31m[15]#011train-rmse:2.45739#011validation-rmse:3.81292\u001b[0m\n",
      "\u001b[31m[22:13:55] src/tree/updater_prune.cc:74: tree pruning end, 1 roots, 22 extra nodes, 2 pruned nodes, max_depth=5\u001b[0m\n",
      "\u001b[31m[16]#011train-rmse:2.33862#011validation-rmse:3.78228\u001b[0m\n",
      "\u001b[31m[22:13:55] src/tree/updater_prune.cc:74: tree pruning end, 1 roots, 22 extra nodes, 2 pruned nodes, max_depth=5\u001b[0m\n",
      "\u001b[31m[17]#011train-rmse:2.21873#011validation-rmse:3.79611\u001b[0m\n",
      "\u001b[31m[22:13:55] src/tree/updater_prune.cc:74: tree pruning end, 1 roots, 16 extra nodes, 2 pruned nodes, max_depth=5\u001b[0m\n",
      "\u001b[31m[18]#011train-rmse:2.12353#011validation-rmse:3.75847\u001b[0m\n",
      "\u001b[31m[22:13:55] src/tree/updater_prune.cc:74: tree pruning end, 1 roots, 20 extra nodes, 4 pruned nodes, max_depth=5\u001b[0m\n",
      "\u001b[31m[19]#011train-rmse:2.05549#011validation-rmse:3.72579\u001b[0m\n",
      "\u001b[31m[22:13:55] src/tree/updater_prune.cc:74: tree pruning end, 1 roots, 14 extra nodes, 6 pruned nodes, max_depth=5\u001b[0m\n",
      "\u001b[31m[20]#011train-rmse:1.98454#011validation-rmse:3.70363\u001b[0m\n",
      "\u001b[31m[22:13:55] src/tree/updater_prune.cc:74: tree pruning end, 1 roots, 12 extra nodes, 2 pruned nodes, max_depth=5\u001b[0m\n",
      "\u001b[31m[21]#011train-rmse:1.91366#011validation-rmse:3.64905\u001b[0m\n",
      "\u001b[31m[22:13:55] src/tree/updater_prune.cc:74: tree pruning end, 1 roots, 18 extra nodes, 0 pruned nodes, max_depth=5\u001b[0m\n",
      "\u001b[31m[22]#011train-rmse:1.86989#011validation-rmse:3.66465\u001b[0m\n",
      "\u001b[31m[22:13:55] src/tree/updater_prune.cc:74: tree pruning end, 1 roots, 16 extra nodes, 0 pruned nodes, max_depth=5\u001b[0m\n",
      "\u001b[31m[23]#011train-rmse:1.81969#011validation-rmse:3.62428\u001b[0m\n",
      "\u001b[31m[22:13:55] src/tree/updater_prune.cc:74: tree pruning end, 1 roots, 14 extra nodes, 6 pruned nodes, max_depth=5\u001b[0m\n",
      "\u001b[31m[24]#011train-rmse:1.79191#011validation-rmse:3.61417\u001b[0m\n",
      "\u001b[31m[22:13:55] src/tree/updater_prune.cc:74: tree pruning end, 1 roots, 14 extra nodes, 2 pruned nodes, max_depth=5\u001b[0m\n",
      "\u001b[31m[25]#011train-rmse:1.75884#011validation-rmse:3.58163\u001b[0m\n",
      "\u001b[31m[22:13:55] src/tree/updater_prune.cc:74: tree pruning end, 1 roots, 14 extra nodes, 4 pruned nodes, max_depth=5\u001b[0m\n",
      "\u001b[31m[26]#011train-rmse:1.70361#011validation-rmse:3.54738\u001b[0m\n",
      "\u001b[31m[22:13:55] src/tree/updater_prune.cc:74: tree pruning end, 1 roots, 20 extra nodes, 4 pruned nodes, max_depth=5\u001b[0m\n",
      "\u001b[31m[27]#011train-rmse:1.65974#011validation-rmse:3.51684\u001b[0m\n",
      "\u001b[31m[22:13:55] src/tree/updater_prune.cc:74: tree pruning end, 1 roots, 10 extra nodes, 0 pruned nodes, max_depth=5\u001b[0m\n",
      "\u001b[31m[28]#011train-rmse:1.63532#011validation-rmse:3.53157\u001b[0m\n",
      "\u001b[31m[22:13:55] src/tree/updater_prune.cc:74: tree pruning end, 1 roots, 22 extra nodes, 4 pruned nodes, max_depth=5\u001b[0m\n",
      "\u001b[31m[29]#011train-rmse:1.58836#011validation-rmse:3.49765\u001b[0m\n",
      "\u001b[31m[22:13:55] src/tree/updater_prune.cc:74: tree pruning end, 1 roots, 18 extra nodes, 2 pruned nodes, max_depth=5\u001b[0m\n",
      "\u001b[31m[30]#011train-rmse:1.53492#011validation-rmse:3.50026\u001b[0m\n",
      "\u001b[31m[22:13:55] src/tree/updater_prune.cc:74: tree pruning end, 1 roots, 14 extra nodes, 2 pruned nodes, max_depth=5\u001b[0m\n",
      "\u001b[31m[31]#011train-rmse:1.5027#011validation-rmse:3.51537\u001b[0m\n",
      "\u001b[31m[22:13:55] src/tree/updater_prune.cc:74: tree pruning end, 1 roots, 16 extra nodes, 8 pruned nodes, max_depth=5\u001b[0m\n",
      "\u001b[31m[32]#011train-rmse:1.44327#011validation-rmse:3.51134\u001b[0m\n",
      "\u001b[31m[22:13:55] src/tree/updater_prune.cc:74: tree pruning end, 1 roots, 18 extra nodes, 2 pruned nodes, max_depth=5\u001b[0m\n",
      "\u001b[31m[33]#011train-rmse:1.41167#011validation-rmse:3.50316\u001b[0m\n",
      "\u001b[31m[22:13:55] src/tree/updater_prune.cc:74: tree pruning end, 1 roots, 12 extra nodes, 4 pruned nodes, max_depth=4\u001b[0m\n",
      "\u001b[31m[34]#011train-rmse:1.35295#011validation-rmse:3.50697\u001b[0m\n",
      "\u001b[31m[22:13:55] src/tree/updater_prune.cc:74: tree pruning end, 1 roots, 14 extra nodes, 2 pruned nodes, max_depth=5\u001b[0m\n",
      "\u001b[31m[35]#011train-rmse:1.3063#011validation-rmse:3.5285\u001b[0m\n",
      "\u001b[31m[36]#011train-rmse:1.28138#011validation-rmse:3.51444\u001b[0m\n",
      "\u001b[31m[37]#011train-rmse:1.25028#011validation-rmse:3.48473\u001b[0m\n",
      "\u001b[31m[22:13:55] src/tree/updater_prune.cc:74: tree pruning end, 1 roots, 16 extra nodes, 6 pruned nodes, max_depth=5\u001b[0m\n",
      "\u001b[31m[22:13:55] src/tree/updater_prune.cc:74: tree pruning end, 1 roots, 16 extra nodes, 6 pruned nodes, max_depth=5\u001b[0m\n",
      "\u001b[31m[22:13:55] src/tree/updater_prune.cc:74: tree pruning end, 1 roots, 18 extra nodes, 12 pruned nodes, max_depth=5\u001b[0m\n",
      "\u001b[31m[38]#011train-rmse:1.19921#011validation-rmse:3.47002\u001b[0m\n",
      "\u001b[31m[22:13:55] src/tree/updater_prune.cc:74: tree pruning end, 1 roots, 14 extra nodes, 6 pruned nodes, max_depth=5\u001b[0m\n",
      "\u001b[31m[39]#011train-rmse:1.17296#011validation-rmse:3.47274\u001b[0m\n",
      "\u001b[31m[22:13:55] src/tree/updater_prune.cc:74: tree pruning end, 1 roots, 16 extra nodes, 4 pruned nodes, max_depth=4\u001b[0m\n",
      "\u001b[31m[40]#011train-rmse:1.14681#011validation-rmse:3.49464\u001b[0m\n",
      "\u001b[31m[22:13:55] src/tree/updater_prune.cc:74: tree pruning end, 1 roots, 14 extra nodes, 2 pruned nodes, max_depth=5\u001b[0m\n",
      "\u001b[31m[41]#011train-rmse:1.12951#011validation-rmse:3.4903\u001b[0m\n",
      "\u001b[31m[22:13:55] src/tree/updater_prune.cc:74: tree pruning end, 1 roots, 4 extra nodes, 16 pruned nodes, max_depth=2\u001b[0m\n",
      "\u001b[31m[42]#011train-rmse:1.11916#011validation-rmse:3.46929\u001b[0m\n",
      "\u001b[31m[22:13:55] src/tree/updater_prune.cc:74: tree pruning end, 1 roots, 10 extra nodes, 10 pruned nodes, max_depth=5\u001b[0m\n",
      "\u001b[31m[43]#011train-rmse:1.10027#011validation-rmse:3.45958\u001b[0m\n",
      "\u001b[31m[22:13:55] src/tree/updater_prune.cc:74: tree pruning end, 1 roots, 12 extra nodes, 6 pruned nodes, max_depth=4\u001b[0m\n",
      "\u001b[31m[44]#011train-rmse:1.07059#011validation-rmse:3.46126\u001b[0m\n",
      "\u001b[31m[22:13:55] src/tree/updater_prune.cc:74: tree pruning end, 1 roots, 14 extra nodes, 10 pruned nodes, max_depth=5\u001b[0m\n",
      "\u001b[31m[45]#011train-rmse:1.03613#011validation-rmse:3.46595\u001b[0m\n",
      "\u001b[31m[22:13:55] src/tree/updater_prune.cc:74: tree pruning end, 1 roots, 14 extra nodes, 4 pruned nodes, max_depth=5\u001b[0m\n",
      "\u001b[31m[46]#011train-rmse:1.00738#011validation-rmse:3.4528\u001b[0m\n",
      "\u001b[31m[22:13:55] src/tree/updater_prune.cc:74: tree pruning end, 1 roots, 10 extra nodes, 16 pruned nodes, max_depth=4\u001b[0m\n",
      "\u001b[31m[47]#011train-rmse:0.986125#011validation-rmse:3.44814\u001b[0m\n",
      "\u001b[31m[22:13:55] src/tree/updater_prune.cc:74: tree pruning end, 1 roots, 8 extra nodes, 14 pruned nodes, max_depth=4\u001b[0m\n",
      "\u001b[31m[48]#011train-rmse:0.976369#011validation-rmse:3.44905\u001b[0m\n",
      "\u001b[31m[22:13:55] src/tree/updater_prune.cc:74: tree pruning end, 1 roots, 2 extra nodes, 14 pruned nodes, max_depth=1\u001b[0m\n",
      "\u001b[31m[49]#011train-rmse:0.97387#011validation-rmse:3.43836\u001b[0m\n",
      "\u001b[31m[22:13:55] src/tree/updater_prune.cc:74: tree pruning end, 1 roots, 2 extra nodes, 12 pruned nodes, max_depth=1\u001b[0m\n",
      "\u001b[31m[50]#011train-rmse:0.972036#011validation-rmse:3.42878\u001b[0m\n",
      "\u001b[31m[22:13:55] src/tree/updater_prune.cc:74: tree pruning end, 1 roots, 12 extra nodes, 16 pruned nodes, max_depth=5\u001b[0m\n",
      "\u001b[31m[51]#011train-rmse:0.957764#011validation-rmse:3.42413\u001b[0m\n",
      "\u001b[31m[22:13:55] src/tree/updater_prune.cc:74: tree pruning end, 1 roots, 10 extra nodes, 6 pruned nodes, max_depth=5\u001b[0m\n",
      "\u001b[31m[52]#011train-rmse:0.939226#011validation-rmse:3.41742\u001b[0m\n",
      "\u001b[31m[22:13:55] src/tree/updater_prune.cc:74: tree pruning end, 1 roots, 4 extra nodes, 14 pruned nodes, max_depth=2\u001b[0m\n",
      "\u001b[31m[53]#011train-rmse:0.934784#011validation-rmse:3.42025\u001b[0m\n",
      "\u001b[31m[22:13:55] src/tree/updater_prune.cc:74: tree pruning end, 1 roots, 6 extra nodes, 14 pruned nodes, max_depth=3\u001b[0m\n",
      "\u001b[31m[54]#011train-rmse:0.929161#011validation-rmse:3.41296\u001b[0m\n",
      "\u001b[31m[22:13:55] src/tree/updater_prune.cc:74: tree pruning end, 1 roots, 10 extra nodes, 12 pruned nodes, max_depth=5\u001b[0m\n",
      "\u001b[31m[55]#011train-rmse:0.919117#011validation-rmse:3.41884\u001b[0m\n",
      "\u001b[31m[22:13:55] src/tree/updater_prune.cc:74: tree pruning end, 1 roots, 8 extra nodes, 12 pruned nodes, max_depth=4\u001b[0m\n",
      "\u001b[31m[56]#011train-rmse:0.906376#011validation-rmse:3.41729\u001b[0m\n",
      "\u001b[31m[22:13:55] src/tree/updater_prune.cc:74: tree pruning end, 1 roots, 10 extra nodes, 16 pruned nodes, max_depth=5\u001b[0m\n",
      "\u001b[31m[57]#011train-rmse:0.894086#011validation-rmse:3.41765\u001b[0m\n",
      "\u001b[31m[22:13:55] src/tree/updater_prune.cc:74: tree pruning end, 1 roots, 0 extra nodes, 16 pruned nodes, max_depth=0\u001b[0m\n",
      "\u001b[31m[58]#011train-rmse:0.894033#011validation-rmse:3.41761\u001b[0m\n",
      "\u001b[31m[22:13:55] src/tree/updater_prune.cc:74: tree pruning end, 1 roots, 8 extra nodes, 14 pruned nodes, max_depth=4\u001b[0m\n",
      "\u001b[31m[59]#011train-rmse:0.880876#011validation-rmse:3.39525\u001b[0m\n",
      "\u001b[31m[22:13:55] src/tree/updater_prune.cc:74: tree pruning end, 1 roots, 0 extra nodes, 24 pruned nodes, max_depth=0\u001b[0m\n",
      "\u001b[31m[60]#011train-rmse:0.880714#011validation-rmse:3.39513\u001b[0m\n",
      "\u001b[31m[22:13:55] src/tree/updater_prune.cc:74: tree pruning end, 1 roots, 10 extra nodes, 12 pruned nodes, max_depth=5\u001b[0m\n",
      "\u001b[31m[61]#011train-rmse:0.863343#011validation-rmse:3.40518\u001b[0m\n",
      "\u001b[31m[22:13:55] src/tree/updater_prune.cc:74: tree pruning end, 1 roots, 4 extra nodes, 26 pruned nodes, max_depth=2\u001b[0m\n",
      "\u001b[31m[62]#011train-rmse:0.857542#011validation-rmse:3.39108\u001b[0m\n",
      "\u001b[31m[22:13:55] src/tree/updater_prune.cc:74: tree pruning end, 1 roots, 0 extra nodes, 28 pruned nodes, max_depth=0\u001b[0m\n",
      "\u001b[31m[63]#011train-rmse:0.857552#011validation-rmse:3.39104\u001b[0m\n",
      "\u001b[31m[22:13:55] src/tree/updater_prune.cc:74: tree pruning end, 1 roots, 8 extra nodes, 18 pruned nodes, max_depth=4\u001b[0m\n",
      "\u001b[31m[64]#011train-rmse:0.846743#011validation-rmse:3.3863\u001b[0m\n",
      "\u001b[31m[22:13:55] src/tree/updater_prune.cc:74: tree pruning end, 1 roots, 10 extra nodes, 12 pruned nodes, max_depth=4\u001b[0m\n",
      "\u001b[31m[65]#011train-rmse:0.834865#011validation-rmse:3.38399\u001b[0m\n",
      "\u001b[31m[22:13:55] src/tree/updater_prune.cc:74: tree pruning end, 1 roots, 0 extra nodes, 12 pruned nodes, max_depth=0\u001b[0m\n",
      "\u001b[31m[66]#011train-rmse:0.834934#011validation-rmse:3.38407\u001b[0m\n",
      "\u001b[31m[22:13:55] src/tree/updater_prune.cc:74: tree pruning end, 1 roots, 0 extra nodes, 22 pruned nodes, max_depth=0\u001b[0m\n",
      "\u001b[31m[67]#011train-rmse:0.835011#011validation-rmse:3.38414\u001b[0m\n",
      "\u001b[31m[22:13:55] src/tree/updater_prune.cc:74: tree pruning end, 1 roots, 2 extra nodes, 22 pruned nodes, max_depth=1\u001b[0m\n",
      "\u001b[31m[68]#011train-rmse:0.833718#011validation-rmse:3.37535\u001b[0m\n",
      "\u001b[31m[22:13:55] src/tree/updater_prune.cc:74: tree pruning end, 1 roots, 10 extra nodes, 12 pruned nodes, max_depth=5\u001b[0m\n",
      "\u001b[31m[69]#011train-rmse:0.81827#011validation-rmse:3.3813\u001b[0m\n",
      "\u001b[31m[22:13:55] src/tree/updater_prune.cc:74: tree pruning end, 1 roots, 10 extra nodes, 10 pruned nodes, max_depth=5\u001b[0m\n",
      "\u001b[31m[70]#011train-rmse:0.808137#011validation-rmse:3.36927\u001b[0m\n",
      "\u001b[31m[22:13:55] src/tree/updater_prune.cc:74: tree pruning end, 1 roots, 0 extra nodes, 16 pruned nodes, max_depth=0\u001b[0m\n",
      "\u001b[31m[71]#011train-rmse:0.80829#011validation-rmse:3.36924\u001b[0m\n",
      "\u001b[31m[22:13:55] src/tree/updater_prune.cc:74: tree pruning end, 1 roots, 0 extra nodes, 14 pruned nodes, max_depth=0\u001b[0m\n",
      "\u001b[31m[72]#011train-rmse:0.808236#011validation-rmse:3.36925\u001b[0m\n",
      "\u001b[31m[22:13:55] src/tree/updater_prune.cc:74: tree pruning end, 1 roots, 0 extra nodes, 12 pruned nodes, max_depth=0\u001b[0m\n",
      "\u001b[31m[73]#011train-rmse:0.80838#011validation-rmse:3.36923\u001b[0m\n",
      "\u001b[31m[22:13:55] src/tree/updater_prune.cc:74: tree pruning end, 1 roots, 0 extra nodes, 18 pruned nodes, max_depth=0\u001b[0m\n",
      "\u001b[31m[74]#011train-rmse:0.808266#011validation-rmse:3.36924\u001b[0m\n",
      "\u001b[31m[22:13:55] src/tree/updater_prune.cc:74: tree pruning end, 1 roots, 10 extra nodes, 14 pruned nodes, max_depth=5\u001b[0m\n",
      "\u001b[31m[75]#011train-rmse:0.795764#011validation-rmse:3.37198\u001b[0m\n",
      "\u001b[31m[22:13:55] src/tree/updater_prune.cc:74: tree pruning end, 1 roots, 0 extra nodes, 16 pruned nodes, max_depth=0\u001b[0m\n",
      "\u001b[31m[76]#011train-rmse:0.79577#011validation-rmse:3.37198\u001b[0m\n",
      "\u001b[31m[22:13:55] src/tree/updater_prune.cc:74: tree pruning end, 1 roots, 0 extra nodes, 18 pruned nodes, max_depth=0\u001b[0m\n",
      "\u001b[31m[77]#011train-rmse:0.795652#011validation-rmse:3.37201\u001b[0m\n",
      "\u001b[31m[22:13:55] src/tree/updater_prune.cc:74: tree pruning end, 1 roots, 10 extra nodes, 14 pruned nodes, max_depth=5\u001b[0m\n",
      "\u001b[31m[78]#011train-rmse:0.784354#011validation-rmse:3.37041\u001b[0m\n",
      "\u001b[31m[22:13:55] src/tree/updater_prune.cc:74: tree pruning end, 1 roots, 0 extra nodes, 14 pruned nodes, max_depth=0\u001b[0m\n",
      "\u001b[31m[79]#011train-rmse:0.784337#011validation-rmse:3.37043\u001b[0m\n",
      "\u001b[31m[22:13:55] src/tree/updater_prune.cc:74: tree pruning end, 1 roots, 0 extra nodes, 16 pruned nodes, max_depth=0\u001b[0m\n",
      "\u001b[31m[80]#011train-rmse:0.784318#011validation-rmse:3.37048\u001b[0m\n",
      "\u001b[31m[22:13:55] src/tree/updater_prune.cc:74: tree pruning end, 1 roots, 0 extra nodes, 28 pruned nodes, max_depth=0\u001b[0m\n",
      "\u001b[31m[81]#011train-rmse:0.784321#011validation-rmse:3.37046\u001b[0m\n",
      "\u001b[31m[22:13:55] src/tree/updater_prune.cc:74: tree pruning end, 1 roots, 0 extra nodes, 28 pruned nodes, max_depth=0\u001b[0m\n",
      "\u001b[31m[82]#011train-rmse:0.784386#011validation-rmse:3.37061\u001b[0m\n",
      "\u001b[31m[22:13:55] src/tree/updater_prune.cc:74: tree pruning end, 1 roots, 8 extra nodes, 18 pruned nodes, max_depth=4\u001b[0m\n",
      "\u001b[31m[83]#011train-rmse:0.776498#011validation-rmse:3.36255\u001b[0m\n",
      "\u001b[31m[22:13:55] src/tree/updater_prune.cc:74: tree pruning end, 1 roots, 0 extra nodes, 18 pruned nodes, max_depth=0\u001b[0m\n",
      "\u001b[31m[84]#011train-rmse:0.776484#011validation-rmse:3.36252\u001b[0m\n",
      "\u001b[31m[22:13:55] src/tree/updater_prune.cc:74: tree pruning end, 1 roots, 4 extra nodes, 16 pruned nodes, max_depth=2\u001b[0m\n",
      "\u001b[31m[85]#011train-rmse:0.773037#011validation-rmse:3.36636\u001b[0m\n",
      "\u001b[31m[22:13:55] src/tree/updater_prune.cc:74: tree pruning end, 1 roots, 0 extra nodes, 20 pruned nodes, max_depth=0\u001b[0m\n",
      "\u001b[31m[86]#011train-rmse:0.772986#011validation-rmse:3.36628\u001b[0m\n",
      "\u001b[31m[22:13:55] src/tree/updater_prune.cc:74: tree pruning end, 1 roots, 0 extra nodes, 26 pruned nodes, max_depth=0\u001b[0m\n",
      "\u001b[31m[87]#011train-rmse:0.773023#011validation-rmse:3.36618\u001b[0m\n",
      "\u001b[31m[22:13:55] src/tree/updater_prune.cc:74: tree pruning end, 1 roots, 0 extra nodes, 22 pruned nodes, max_depth=0\u001b[0m\n",
      "\u001b[31m[88]#011train-rmse:0.772996#011validation-rmse:3.36631\u001b[0m\n",
      "\u001b[31m[22:13:55] src/tree/updater_prune.cc:74: tree pruning end, 1 roots, 0 extra nodes, 24 pruned nodes, max_depth=0\u001b[0m\n",
      "\u001b[31m[89]#011train-rmse:0.773#011validation-rmse:3.3662\u001b[0m\n",
      "\u001b[31m[22:13:55] src/tree/updater_prune.cc:74: tree pruning end, 1 roots, 0 extra nodes, 18 pruned nodes, max_depth=0\u001b[0m\n",
      "\u001b[31m[90]#011train-rmse:0.772996#011validation-rmse:3.36621\u001b[0m\n",
      "\u001b[31m[22:13:55] src/tree/updater_prune.cc:74: tree pruning end, 1 roots, 4 extra nodes, 22 pruned nodes, max_depth=2\u001b[0m\n",
      "\u001b[31m[91]#011train-rmse:0.767507#011validation-rmse:3.36895\u001b[0m\n",
      "\u001b[31m[22:13:55] src/tree/updater_prune.cc:74: tree pruning end, 1 roots, 0 extra nodes, 28 pruned nodes, max_depth=0\u001b[0m\n",
      "\u001b[31m[92]#011train-rmse:0.76749#011validation-rmse:3.36895\u001b[0m\n",
      "\u001b[31m[22:13:55] src/tree/updater_prune.cc:74: tree pruning end, 1 roots, 0 extra nodes, 24 pruned nodes, max_depth=0\u001b[0m\n",
      "\u001b[31m[93]#011train-rmse:0.767498#011validation-rmse:3.36895\u001b[0m\n",
      "\u001b[31m[22:13:55] src/tree/updater_prune.cc:74: tree pruning end, 1 roots, 0 extra nodes, 30 pruned nodes, max_depth=0\u001b[0m\n",
      "\u001b[31m[94]#011train-rmse:0.767502#011validation-rmse:3.36895\u001b[0m\n",
      "\u001b[31mStopping. Best iteration:\u001b[0m\n",
      "\u001b[31m[84]#011train-rmse:0.776484#011validation-rmse:3.36252\n",
      "\u001b[0m\n"
     ]
    },
    {
     "name": "stdout",
     "output_type": "stream",
     "text": [
      "\n",
      "2019-05-11 22:14:07 Uploading - Uploading generated training model\n",
      "2019-05-11 22:14:07 Completed - Training job completed\n",
      "Billable seconds: 39\n"
     ]
    }
   ],
   "source": [
    "# This is a wrapper around the location of our train and validation data, to make sure that SageMaker\n",
    "# knows our data is in csv format.\n",
    "s3_input_train = sagemaker.s3_input(s3_data=train_location, content_type='csv')\n",
    "s3_input_validation = sagemaker.s3_input(s3_data=val_location, content_type='csv')\n",
    "\n",
    "xgb.fit({'train': s3_input_train, 'validation': s3_input_validation})"
   ]
  },
  {
   "cell_type": "markdown",
   "metadata": {},
   "source": [
    "## Step 5: Test the trained model\n",
    "\n",
    "We will be skipping this step for now. We will still test our trained model but we are going to do it by using the deployed model, rather than setting up a batch transform job.\n",
    "\n",
    "\n",
    "## Step 6: Deploy the trained model\n",
    "\n",
    "Now that we have fit our model to the training data, using the validation data to avoid overfitting, we can deploy our model and test it. Deploying is very simple when we use the high level API, we need only call the `deploy` method of our trained estimator.\n",
    "\n",
    "**NOTE:** When deploying a model you are asking SageMaker to launch an compute instance that will wait for data to be sent to it. As a result, this compute instance will continue to run until *you* shut it down. This is important to know since the cost of a deployed endpoint depends on how long it has been running for.\n",
    "\n",
    "In other words **If you are no longer using a deployed endpoint, shut it down!**"
   ]
  },
  {
   "cell_type": "code",
   "execution_count": 11,
   "metadata": {},
   "outputs": [
    {
     "name": "stdout",
     "output_type": "stream",
     "text": [
      "---------------------------------------------------------------------------!"
     ]
    }
   ],
   "source": [
    "xgb_predictor = xgb.deploy(initial_instance_count=1, instance_type='ml.m4.xlarge')"
   ]
  },
  {
   "cell_type": "markdown",
   "metadata": {},
   "source": [
    "## Step 7: Use the model\n",
    "\n",
    "Now that our model is trained and deployed we can send the test data to it and evaluate the results. Here, because our test data is so small, we can send it all using a single call to our endpoint. If our test dataset was larger we would need to split it up and send the data in chunks, making sure to accumulate the results."
   ]
  },
  {
   "cell_type": "code",
   "execution_count": 12,
   "metadata": {},
   "outputs": [],
   "source": [
    "# We need to tell the endpoint what format the data we are sending is in\n",
    "xgb_predictor.content_type = 'text/csv'\n",
    "xgb_predictor.serializer = csv_serializer\n",
    "\n",
    "Y_pred = xgb_predictor.predict(X_test.values).decode('utf-8')\n",
    "# predictions is currently a comma delimited string and so we would like to break it up\n",
    "# as a numpy array.\n",
    "Y_pred = np.fromstring(Y_pred, sep=',')"
   ]
  },
  {
   "cell_type": "code",
   "execution_count": 17,
   "metadata": {},
   "outputs": [
    {
     "data": {
      "text/plain": [
       "array([[1.00000e-01, 3.40000e+01, 6.09000e+00, ..., 1.61000e+01,\n",
       "        3.90430e+02, 4.86000e+00],\n",
       "       [6.15100e-02, 0.00000e+00, 5.19000e+00, ..., 2.02000e+01,\n",
       "        3.96900e+02, 9.29000e+00],\n",
       "       [1.44208e+01, 0.00000e+00, 1.81000e+01, ..., 2.02000e+01,\n",
       "        2.74900e+01, 1.80500e+01],\n",
       "       ...,\n",
       "       [3.83518e+01, 0.00000e+00, 1.81000e+01, ..., 2.02000e+01,\n",
       "        3.96900e+02, 3.05900e+01],\n",
       "       [7.85700e-01, 2.00000e+01, 3.97000e+00, ..., 1.30000e+01,\n",
       "        3.84070e+02, 1.47900e+01],\n",
       "       [5.73116e+00, 0.00000e+00, 1.81000e+01, ..., 2.02000e+01,\n",
       "        3.95280e+02, 7.01000e+00]])"
      ]
     },
     "execution_count": 17,
     "metadata": {},
     "output_type": "execute_result"
    }
   ],
   "source": [
    "X_test.values"
   ]
  },
  {
   "cell_type": "code",
   "execution_count": 16,
   "metadata": {},
   "outputs": [
    {
     "data": {
      "text/plain": [
       "array([31.93556404, 20.90793991, 11.47418499, 21.41372108, 23.19375801,\n",
       "       16.83096886, 28.49764442, 21.13169289, 16.78283882, 23.39757156,\n",
       "       20.67712021, 22.86675262, 44.12163544, 16.45902252, 23.6283226 ,\n",
       "       21.8929348 , 20.54397964, 24.16834831, 15.17409229,  8.84441662,\n",
       "       23.40823555, 32.49129486,  7.65019417, 18.27525139, 20.6200428 ,\n",
       "       15.74174404, 20.71159172, 17.07715034, 43.57084656, 24.13880157,\n",
       "       24.18276024, 17.75203133, 13.62034321, 14.8190012 , 24.41005516,\n",
       "       18.64998436, 26.04547691, 23.71409798, 21.12380409, 19.15193748,\n",
       "       45.8843956 ,  7.73150587, 17.36075211, 19.97567558, 17.84017372,\n",
       "       19.97519875, 12.78118038, 12.72347832, 26.69293404, 19.82835388,\n",
       "       16.69310761, 10.82111549, 34.94262314, 44.70946884, 15.19952488,\n",
       "       19.60082436, 24.68635178, 23.71502113, 25.43928337, 44.97304153,\n",
       "       21.92642403, 33.95073318, 24.86824417, 23.04404449, 23.3142662 ,\n",
       "       30.37944603, 21.9237442 , 39.62661362, 22.37074661, 30.35633659,\n",
       "       20.23625183, 20.18935776, 24.45141029, 12.18214321, 25.04200554,\n",
       "       43.72964096, 35.4330864 , 29.51746368, 19.50804329, 32.24721527,\n",
       "       22.18959999, 13.03279591, 16.25048828, 32.25311279, 20.5242691 ,\n",
       "        9.44214439, 20.5302372 , 20.54757309, 25.27780724, 23.20635414,\n",
       "       13.04224682, 17.10530472, 30.20637703, 14.37765121, 27.42828941,\n",
       "       35.23283386, 24.28108597, 19.97592545, 28.15698624, 23.78970909,\n",
       "       22.86153221, 13.9810276 , 15.65746212, 22.03896332, 20.71698189,\n",
       "       23.82532883, 24.71471024, 19.81055069, 45.47138596, 24.59755898,\n",
       "       48.40392685, 49.63902283, 15.85351658, 12.83998775, 34.90613937,\n",
       "       23.89832878, 15.75440025, 19.15635109, 20.58541107, 23.32913589,\n",
       "       18.56347084, 17.89681625, 11.98130417, 20.81410408, 18.18422127,\n",
       "       24.59250832, 20.03696251,  7.43749475, 15.63053989, 20.1552124 ,\n",
       "       28.01524734, 11.33257389, 25.32125092, 21.74045181, 33.55716324,\n",
       "       21.95371819, 24.52903748, 24.71053886, 24.767313  , 25.58969879,\n",
       "       15.47713566, 19.10762215, 24.79584312, 23.25605202,  8.67725277,\n",
       "       17.3740406 , 36.05630493, 17.03232002, 24.4167347 , 23.5265274 ,\n",
       "       46.50613403, 41.83740616, 22.54785156, 43.50314331, 20.4791832 ,\n",
       "       15.74555779, 16.80802155, 19.05770874, 20.3948822 , 23.54400063,\n",
       "       20.7442379 , 23.79574966, 23.894207  , 15.35257721,  8.81173897,\n",
       "       29.20511627, 23.43598175])"
      ]
     },
     "execution_count": 16,
     "metadata": {},
     "output_type": "execute_result"
    }
   ],
   "source": [
    "Y_pred"
   ]
  },
  {
   "cell_type": "markdown",
   "metadata": {},
   "source": [
    "To see how well our model works we can create a simple scatter plot between the predicted and actual values. If the model was completely accurate the resulting scatter plot would look like the line $x=y$. As we can see, our model seems to have done okay but there is room for improvement."
   ]
  },
  {
   "cell_type": "code",
   "execution_count": 13,
   "metadata": {},
   "outputs": [
    {
     "data": {
      "text/plain": [
       "Text(0.5,1,'Median Price vs Predicted Price')"
      ]
     },
     "execution_count": 13,
     "metadata": {},
     "output_type": "execute_result"
    },
    {
     "data": {
      "image/png": "[encoded data removed]",
      "text/plain": [
       "<Figure size 432x288 with 1 Axes>"
      ]
     },
     "metadata": {},
     "output_type": "display_data"
    }
   ],
   "source": [
    "plt.scatter(Y_test, Y_pred)\n",
    "plt.xlabel(\"Median Price\")\n",
    "plt.ylabel(\"Predicted Price\")\n",
    "plt.title(\"Median Price vs Predicted Price\")"
   ]
  },
  {
   "cell_type": "markdown",
   "metadata": {},
   "source": [
    "## Delete the endpoint\n",
    "\n",
    "Since we are no longer using the deployed model we need to make sure to shut it down. Remember that you have to pay for the length of time that your endpoint is deployed so the longer it is left running, the more it costs."
   ]
  },
  {
   "cell_type": "code",
   "execution_count": 14,
   "metadata": {},
   "outputs": [],
   "source": [
    "xgb_predictor.delete_endpoint()"
   ]
  },
  {
   "cell_type": "markdown",
   "metadata": {},
   "source": [
    "## Optional: Clean up\n",
    "\n",
    "The default notebook instance on SageMaker doesn't have a lot of excess disk space available. As you continue to complete and execute notebooks you will eventually fill up this disk space, leading to errors which can be difficult to diagnose. Once you are completely finished using a notebook it is a good idea to remove the files that you created along the way. Of course, you can do this from the terminal or from the notebook hub if you would like. The cell below contains some commands to clean up the created files from within the notebook."
   ]
  },
  {
   "cell_type": "code",
   "execution_count": 15,
   "metadata": {},
   "outputs": [],
   "source": [
    "# First we will remove all of the files contained in the data_dir directory\n",
    "!rm $data_dir/*\n",
    "\n",
    "# And then we delete the directory itself\n",
    "!rmdir $data_dir"
   ]
  },
  {
   "cell_type": "code",
   "execution_count": null,
   "metadata": {},
   "outputs": [],
   "source": []
  }
 ],
 "metadata": {
  "kernelspec": {
   "display_name": "conda_pytorch_p36",
   "language": "python",
   "name": "conda_pytorch_p36"
  },
  "language_info": {
   "codemirror_mode": {
    "name": "ipython",
    "version": 3
   },
   "file_extension": ".py",
   "mimetype": "text/x-python",
   "name": "python",
   "nbconvert_exporter": "python",
   "pygments_lexer": "ipython3",
   "version": "3.6.5"
  }
 },
 "nbformat": 4,
 "nbformat_minor": 2
}
